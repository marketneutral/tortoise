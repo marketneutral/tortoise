{
 "cells": [
  {
   "cell_type": "code",
   "execution_count": 133,
   "metadata": {},
   "outputs": [],
   "source": [
    "import numpy as np\n",
    "import pandas as pd\n",
    "import matplotlib.pyplot as plt\n",
    "import math\n",
    "import graphviz\n",
    "import IPython\n",
    "import re\n",
    "from sklearn.ensemble import RandomForestRegressor\n",
    "from sklearn.tree import export_graphviz\n",
    "from sklearn import metrics\n",
    "\n",
    "import warnings\n",
    "warnings.filterwarnings(\"ignore\", category=FutureWarning)"
   ]
  },
  {
   "cell_type": "code",
   "execution_count": 134,
   "metadata": {},
   "outputs": [],
   "source": [
    "# This is exact code from fastai 0.7 structured.py\n",
    "\n",
    "def draw_tree(t, df, size=10, ratio=0.6, precision=0):\n",
    "    \"\"\" Draws a representation of a random forest in IPython.\n",
    "    Parameters:\n",
    "    -----------\n",
    "    t: The tree you wish to draw\n",
    "    df: The data used to train the tree. This is used to get the names of the features.\n",
    "    \"\"\"\n",
    "    s=export_graphviz(t, out_file=None, feature_names=df.columns, filled=True,\n",
    "                      special_characters=True, rotate=True, precision=precision)\n",
    "    IPython.display.display(graphviz.Source(re.sub('Tree {',\n",
    "       f'Tree {{ size={size}; ratio={ratio}', s)))"
   ]
  },
  {
   "cell_type": "code",
   "execution_count": 135,
   "metadata": {},
   "outputs": [],
   "source": [
    "# From Notebook Cells\n",
    "\n",
    "class TreeEnsemble():\n",
    "    def __init__(self, x, y, n_trees, sample_sz, min_leaf=5):\n",
    "        np.random.seed(42)\n",
    "        self.x,self.y,self.sample_sz,self.min_leaf = x,y,sample_sz,min_leaf\n",
    "        self.trees = [self.create_tree() for i in range(n_trees)]\n",
    "\n",
    "    def create_tree(self):\n",
    "        rnd_idxs = np.random.permutation(len(self.y))[:self.sample_sz]\n",
    "        return DecisionTree(self.x.iloc[rnd_idxs], self.y[rnd_idxs], \n",
    "                    idxs=np.array(range(self.sample_sz)), min_leaf=self.min_leaf)\n",
    "        \n",
    "    def predict(self, x):\n",
    "        return np.mean([t.predict(x) for t in self.trees], axis=0)\n",
    "\n",
    "def std_agg(cnt, s1, s2): return math.sqrt((s2/cnt) - (s1/cnt)**2)\n",
    "\n",
    "class DecisionTree():\n",
    "    def __init__(self, x, y, idxs=None, min_leaf=5):\n",
    "        if idxs is None: idxs=np.arange(len(y))\n",
    "        self.x,self.y,self.idxs,self.min_leaf = x,y,idxs,min_leaf\n",
    "        self.n,self.c = len(idxs), x.shape[1]\n",
    "        self.val = np.mean(y[idxs])\n",
    "        self.score = float('inf')\n",
    "        self.find_varsplit()\n",
    "        \n",
    "    def find_varsplit(self):\n",
    "        for i in range(self.c): self.find_better_split(i)\n",
    "        if self.is_leaf: return\n",
    "        x = self.split_col\n",
    "        lhs = np.nonzero(x<=self.split)[0]\n",
    "        rhs = np.nonzero(x>self.split)[0]\n",
    "        self.lhs = DecisionTree(self.x, self.y, self.idxs[lhs])\n",
    "        self.rhs = DecisionTree(self.x, self.y, self.idxs[rhs])\n",
    "\n",
    "    def find_better_split(self, var_idx):\n",
    "        x,y = self.x.values[self.idxs,var_idx], self.y[self.idxs]\n",
    "        sort_idx = np.argsort(x)\n",
    "        sort_y,sort_x = y[sort_idx], x[sort_idx]\n",
    "        rhs_cnt,rhs_sum,rhs_sum2 = self.n, sort_y.sum(), (sort_y**2).sum()\n",
    "        lhs_cnt,lhs_sum,lhs_sum2 = 0,0.,0.\n",
    "\n",
    "        for i in range(0,self.n-self.min_leaf):\n",
    "            xi,yi = sort_x[i],sort_y[i]\n",
    "            lhs_cnt += 1; rhs_cnt -= 1\n",
    "            lhs_sum += yi; rhs_sum -= yi\n",
    "            lhs_sum2 += yi**2; rhs_sum2 -= yi**2\n",
    "            if i<self.min_leaf-1 or xi==sort_x[i+1]:\n",
    "                continue\n",
    "\n",
    "            lhs_std = std_agg(lhs_cnt, lhs_sum, lhs_sum2)\n",
    "            rhs_std = std_agg(rhs_cnt, rhs_sum, rhs_sum2)\n",
    "            curr_score = lhs_std*lhs_cnt + rhs_std*rhs_cnt\n",
    "            if curr_score<self.score: \n",
    "                self.var_idx,self.score,self.split = var_idx,curr_score,xi\n",
    "\n",
    "    @property\n",
    "    def split_name(self): return self.x.columns[self.var_idx]\n",
    "    \n",
    "    @property\n",
    "    def split_col(self): return self.x.values[self.idxs,self.var_idx]\n",
    "\n",
    "    @property\n",
    "    def is_leaf(self): return self.score == float('inf')\n",
    "    \n",
    "    def __repr__(self):\n",
    "        s = f'n: {self.n}; val:{self.val}'\n",
    "        if not self.is_leaf:\n",
    "            s += f'; score:{self.score}; split:{self.split}; var:{self.split_name}'\n",
    "        return s\n",
    "\n",
    "    def predict(self, x):\n",
    "        return np.array([self.predict_row(xi) for xi in x])\n",
    "\n",
    "    def predict_row(self, xi):\n",
    "        if self.is_leaf: return self.val\n",
    "        t = self.lhs if xi[self.var_idx]<=self.split else self.rhs\n",
    "        return t.predict_row(xi)"
   ]
  },
  {
   "cell_type": "markdown",
   "metadata": {},
   "source": [
    "### Spoof some data"
   ]
  },
  {
   "cell_type": "code",
   "execution_count": 155,
   "metadata": {},
   "outputs": [],
   "source": [
    "df_trn = pd.DataFrame(np.random.uniform(low=-0.5, high=1, size=(500, 10)))\n",
    "y_trn = pd.Series(df_trn.loc[:,1] + 0.5*df_trn.loc[:,2] + 5*df_trn.loc[:,3]*df_trn.loc[:,5])"
   ]
  },
  {
   "cell_type": "code",
   "execution_count": 156,
   "metadata": {},
   "outputs": [],
   "source": [
    "def split_vals(a,n): return a[:n], a[n:]\n",
    "n_valid = 100\n",
    "n_trn = len(df_trn)-n_valid\n",
    "X_train, X_valid = split_vals(df_trn, n_trn)\n",
    "y_train, y_valid = split_vals(y_trn, n_trn)"
   ]
  },
  {
   "cell_type": "markdown",
   "metadata": {},
   "source": [
    "### `sklearn` version"
   ]
  },
  {
   "cell_type": "code",
   "execution_count": 157,
   "metadata": {},
   "outputs": [],
   "source": [
    "m = RandomForestRegressor(n_estimators=1, min_samples_leaf=100, max_features=None, bootstrap=False)\n",
    "m.fit(X_train, y_train)\n",
    "preds = m.predict(X_train)"
   ]
  },
  {
   "cell_type": "code",
   "execution_count": 158,
   "metadata": {},
   "outputs": [
    {
     "data": {
      "image/svg+xml": [
       "<?xml version=\"1.0\" encoding=\"UTF-8\" standalone=\"no\"?>\n",
       "<!DOCTYPE svg PUBLIC \"-//W3C//DTD SVG 1.1//EN\"\n",
       " \"http://www.w3.org/Graphics/SVG/1.1/DTD/svg11.dtd\">\n",
       "<!-- Generated by graphviz version 2.40.1 (20161225.0304)\n",
       " -->\n",
       "<!-- Title: Tree Pages: 1 -->\n",
       "<svg width=\"379pt\" height=\"231pt\"\n",
       " viewBox=\"0.00 0.00 379.14 230.60\" xmlns=\"http://www.w3.org/2000/svg\" xmlns:xlink=\"http://www.w3.org/1999/xlink\">\n",
       "<g id=\"graph0\" class=\"graph\" transform=\"scale(1 1) rotate(0) translate(4 226.6)\">\n",
       "<title>Tree</title>\n",
       "<polygon fill=\"#ffffff\" stroke=\"transparent\" points=\"-4,4 -4,-226.6 375.1387,-226.6 375.1387,4 -4,4\"/>\n",
       "<!-- 0 -->\n",
       "<g id=\"node1\" class=\"node\">\n",
       "<title>0</title>\n",
       "<polygon fill=\"#e58139\" fill-opacity=\"0.607843\" stroke=\"#000000\" points=\"99.852,-118.6 .4254,-118.6 .4254,-54.6 99.852,-54.6 99.852,-118.6\"/>\n",
       "<text text-anchor=\"start\" x=\"20.0469\" y=\"-103.4\" font-family=\"Times,serif\" font-size=\"14.00\" fill=\"#000000\">5 ≤ 0.2967</text>\n",
       "<text text-anchor=\"start\" x=\"12.165\" y=\"-89.4\" font-family=\"Times,serif\" font-size=\"14.00\" fill=\"#000000\">mse = 1.5863</text>\n",
       "<text text-anchor=\"start\" x=\"9.6392\" y=\"-75.4\" font-family=\"Times,serif\" font-size=\"14.00\" fill=\"#000000\">samples = 400</text>\n",
       "<text text-anchor=\"start\" x=\"8.2822\" y=\"-61.4\" font-family=\"Times,serif\" font-size=\"14.00\" fill=\"#000000\">value = 0.7368</text>\n",
       "</g>\n",
       "<!-- 1 -->\n",
       "<g id=\"node2\" class=\"node\">\n",
       "<title>1</title>\n",
       "<polygon fill=\"#e58139\" fill-opacity=\"0.274510\" stroke=\"#000000\" points=\"233.6377,-171.6 136.6396,-171.6 136.6396,-107.6 233.6377,-107.6 233.6377,-171.6\"/>\n",
       "<text text-anchor=\"start\" x=\"155.0469\" y=\"-156.4\" font-family=\"Times,serif\" font-size=\"14.00\" fill=\"#000000\">1 ≤ 0.3243</text>\n",
       "<text text-anchor=\"start\" x=\"147.165\" y=\"-142.4\" font-family=\"Times,serif\" font-size=\"14.00\" fill=\"#000000\">mse = 0.5262</text>\n",
       "<text text-anchor=\"start\" x=\"144.6392\" y=\"-128.4\" font-family=\"Times,serif\" font-size=\"14.00\" fill=\"#000000\">samples = 217</text>\n",
       "<text text-anchor=\"start\" x=\"146.7822\" y=\"-114.4\" font-family=\"Times,serif\" font-size=\"14.00\" fill=\"#000000\">value = 0.295</text>\n",
       "</g>\n",
       "<!-- 0&#45;&gt;1 -->\n",
       "<g id=\"edge1\" class=\"edge\">\n",
       "<title>0&#45;&gt;1</title>\n",
       "<path fill=\"none\" stroke=\"#000000\" d=\"M100.0241,-106.1847C108.7393,-109.6062 117.8756,-113.193 126.7947,-116.6946\"/>\n",
       "<polygon fill=\"#000000\" stroke=\"#000000\" points=\"125.7699,-120.0523 136.3573,-120.4488 128.328,-113.5364 125.7699,-120.0523\"/>\n",
       "<text text-anchor=\"middle\" x=\"113.4422\" y=\"-126.2437\" font-family=\"Times,serif\" font-size=\"14.00\" fill=\"#000000\">True</text>\n",
       "</g>\n",
       "<!-- 4 -->\n",
       "<g id=\"node5\" class=\"node\">\n",
       "<title>4</title>\n",
       "<polygon fill=\"#e58139\" stroke=\"#000000\" points=\"234.852,-59.6 135.4254,-59.6 135.4254,-9.6 234.852,-9.6 234.852,-59.6\"/>\n",
       "<text text-anchor=\"start\" x=\"147.165\" y=\"-44.4\" font-family=\"Times,serif\" font-size=\"14.00\" fill=\"#000000\">mse = 2.3377</text>\n",
       "<text text-anchor=\"start\" x=\"144.6392\" y=\"-30.4\" font-family=\"Times,serif\" font-size=\"14.00\" fill=\"#000000\">samples = 183</text>\n",
       "<text text-anchor=\"start\" x=\"143.2822\" y=\"-16.4\" font-family=\"Times,serif\" font-size=\"14.00\" fill=\"#000000\">value = 1.2605</text>\n",
       "</g>\n",
       "<!-- 0&#45;&gt;4 -->\n",
       "<g id=\"edge4\" class=\"edge\">\n",
       "<title>0&#45;&gt;4</title>\n",
       "<path fill=\"none\" stroke=\"#000000\" d=\"M100.0241,-67.3849C108.3191,-64.1898 116.9957,-60.8477 125.5033,-57.5707\"/>\n",
       "<polygon fill=\"#000000\" stroke=\"#000000\" points=\"126.9339,-60.7703 135.0076,-53.9098 124.4178,-54.2382 126.9339,-60.7703\"/>\n",
       "<text text-anchor=\"middle\" x=\"112.1572\" y=\"-39.5676\" font-family=\"Times,serif\" font-size=\"14.00\" fill=\"#000000\">False</text>\n",
       "</g>\n",
       "<!-- 2 -->\n",
       "<g id=\"node3\" class=\"node\">\n",
       "<title>2</title>\n",
       "<polygon fill=\"transparent\" stroke=\"#000000\" points=\"369.6377,-212.6 272.6396,-212.6 272.6396,-162.6 369.6377,-162.6 369.6377,-212.6\"/>\n",
       "<text text-anchor=\"start\" x=\"283.165\" y=\"-197.4\" font-family=\"Times,serif\" font-size=\"14.00\" fill=\"#000000\">mse = 0.4037</text>\n",
       "<text text-anchor=\"start\" x=\"280.6392\" y=\"-183.4\" font-family=\"Times,serif\" font-size=\"14.00\" fill=\"#000000\">samples = 105</text>\n",
       "<text text-anchor=\"start\" x=\"283.9512\" y=\"-169.4\" font-family=\"Times,serif\" font-size=\"14.00\" fill=\"#000000\">value = &#45;0.07</text>\n",
       "</g>\n",
       "<!-- 1&#45;&gt;2 -->\n",
       "<g id=\"edge2\" class=\"edge\">\n",
       "<title>1&#45;&gt;2</title>\n",
       "<path fill=\"none\" stroke=\"#000000\" d=\"M233.8537,-156.7935C243.2285,-160.1023 253.1365,-163.5992 262.7804,-167.003\"/>\n",
       "<polygon fill=\"#000000\" stroke=\"#000000\" points=\"261.7119,-170.3374 272.3067,-170.3652 264.0417,-163.7365 261.7119,-170.3374\"/>\n",
       "</g>\n",
       "<!-- 3 -->\n",
       "<g id=\"node4\" class=\"node\">\n",
       "<title>3</title>\n",
       "<polygon fill=\"#e58139\" fill-opacity=\"0.533333\" stroke=\"#000000\" points=\"370.852,-117.6 271.4254,-117.6 271.4254,-67.6 370.852,-67.6 370.852,-117.6\"/>\n",
       "<text text-anchor=\"start\" x=\"286.665\" y=\"-102.4\" font-family=\"Times,serif\" font-size=\"14.00\" fill=\"#000000\">mse = 0.399</text>\n",
       "<text text-anchor=\"start\" x=\"280.8955\" y=\"-88.4\" font-family=\"Times,serif\" font-size=\"14.00\" fill=\"#000000\">samples = 112</text>\n",
       "<text text-anchor=\"start\" x=\"279.2822\" y=\"-74.4\" font-family=\"Times,serif\" font-size=\"14.00\" fill=\"#000000\">value = 0.6373</text>\n",
       "</g>\n",
       "<!-- 1&#45;&gt;3 -->\n",
       "<g id=\"edge3\" class=\"edge\">\n",
       "<title>1&#45;&gt;3</title>\n",
       "<path fill=\"none\" stroke=\"#000000\" d=\"M233.8537,-122.7647C242.9046,-119.6368 252.4524,-116.3372 261.7798,-113.1137\"/>\n",
       "<polygon fill=\"#000000\" stroke=\"#000000\" points=\"263.0817,-116.367 271.39,-109.7926 260.7952,-109.7509 263.0817,-116.367\"/>\n",
       "</g>\n",
       "</g>\n",
       "</svg>\n"
      ],
      "text/plain": [
       "<graphviz.files.Source at 0x1129d5ef0>"
      ]
     },
     "metadata": {},
     "output_type": "display_data"
    }
   ],
   "source": [
    "draw_tree(m.estimators_[0], X_train, precision=4)"
   ]
  },
  {
   "cell_type": "code",
   "execution_count": 159,
   "metadata": {},
   "outputs": [],
   "source": [
    "m_rf = TreeEnsemble(X_train, y_train, n_trees=1, sample_sz=400, min_leaf=100)"
   ]
  },
  {
   "cell_type": "code",
   "execution_count": 160,
   "metadata": {},
   "outputs": [],
   "source": [
    "tree = m_rf.trees[0]"
   ]
  },
  {
   "cell_type": "code",
   "execution_count": 161,
   "metadata": {},
   "outputs": [
    {
     "data": {
      "text/plain": [
       "n: 400; val:0.7367552209079351; score:500.9992481377045; split:0.31205441523590305; var:6"
      ]
     },
     "execution_count": 161,
     "metadata": {},
     "output_type": "execute_result"
    }
   ],
   "source": [
    "tree"
   ]
  },
  {
   "cell_type": "code",
   "execution_count": 162,
   "metadata": {},
   "outputs": [
    {
     "data": {
      "text/plain": [
       "n: 223; val:0.6844595432665761"
      ]
     },
     "execution_count": 162,
     "metadata": {},
     "output_type": "execute_result"
    }
   ],
   "source": [
    "tree.lhs"
   ]
  },
  {
   "cell_type": "code",
   "execution_count": 163,
   "metadata": {},
   "outputs": [
    {
     "data": {
      "text/plain": [
       "n: 177; val:0.8026418656199293"
      ]
     },
     "execution_count": 163,
     "metadata": {},
     "output_type": "execute_result"
    }
   ],
   "source": [
    "tree.rhs"
   ]
  },
  {
   "cell_type": "code",
   "execution_count": 164,
   "metadata": {},
   "outputs": [
    {
     "data": {
      "text/plain": [
       "True"
      ]
     },
     "execution_count": 164,
     "metadata": {},
     "output_type": "execute_result"
    }
   ],
   "source": [
    "tree.lhs.is_leaf"
   ]
  },
  {
   "cell_type": "code",
   "execution_count": 165,
   "metadata": {},
   "outputs": [
    {
     "data": {
      "text/plain": [
       "True"
      ]
     },
     "execution_count": 165,
     "metadata": {},
     "output_type": "execute_result"
    }
   ],
   "source": [
    "tree.rhs.is_leaf"
   ]
  },
  {
   "cell_type": "markdown",
   "metadata": {},
   "source": [
    "### Why does this tree stop splitting after just the root?"
   ]
  },
  {
   "cell_type": "code",
   "execution_count": null,
   "metadata": {},
   "outputs": [],
   "source": []
  }
 ],
 "metadata": {
  "kernelspec": {
   "display_name": "Python 3",
   "language": "python",
   "name": "python3"
  },
  "language_info": {
   "codemirror_mode": {
    "name": "ipython",
    "version": 3
   },
   "file_extension": ".py",
   "mimetype": "text/x-python",
   "name": "python",
   "nbconvert_exporter": "python",
   "pygments_lexer": "ipython3",
   "version": "3.6.7"
  }
 },
 "nbformat": 4,
 "nbformat_minor": 2
}
