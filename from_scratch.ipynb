{
 "cells": [
  {
   "cell_type": "code",
   "execution_count": 65,
   "metadata": {},
   "outputs": [],
   "source": [
    "import numpy as np\n",
    "import pandas as pd\n",
    "import matplotlib.pyplot as plt\n",
    "import math\n",
    "import graphviz\n",
    "import IPython\n",
    "import re\n",
    "from sklearn.ensemble import RandomForestRegressor\n",
    "from sklearn.tree import export_graphviz\n",
    "from sklearn import metrics\n",
    "\n",
    "import warnings\n",
    "warnings.filterwarnings(\"ignore\", category=FutureWarning)"
   ]
  },
  {
   "cell_type": "code",
   "execution_count": 87,
   "metadata": {},
   "outputs": [],
   "source": [
    "# This is exact code from fastai 0.7 structured.py\n",
    "\n",
    "def draw_tree(t, df, size=10, ratio=0.6, precision=0):\n",
    "    \"\"\" Draws a representation of a random forest in IPython.\n",
    "    Parameters:\n",
    "    -----------\n",
    "    t: The tree you wish to draw\n",
    "    df: The data used to train the tree. This is used to get the names of the features.\n",
    "    \"\"\"\n",
    "    s=export_graphviz(t, out_file=None, feature_names=df.columns, filled=True,\n",
    "                      special_characters=True, rotate=True, precision=precision)\n",
    "    IPython.display.display(graphviz.Source(re.sub('Tree {',\n",
    "       f'Tree {{ size={size}; ratio={ratio}', s)))"
   ]
  },
  {
   "cell_type": "code",
   "execution_count": 3,
   "metadata": {},
   "outputs": [],
   "source": []
  },
  {
   "cell_type": "code",
   "execution_count": 103,
   "metadata": {},
   "outputs": [],
   "source": [
    "# From Notebook Cells\n",
    "\n",
    "class TreeEnsemble():\n",
    "    def __init__(self, x, y, n_trees, sample_sz, min_leaf=5):\n",
    "        np.random.seed(42)\n",
    "        self.x,self.y,self.sample_sz,self.min_leaf = x,y,sample_sz,min_leaf\n",
    "        self.trees = [self.create_tree() for i in range(n_trees)]\n",
    "\n",
    "    def create_tree(self):\n",
    "        rnd_idxs = np.random.permutation(len(self.y))[:self.sample_sz]\n",
    "        return DecisionTree(self.x.iloc[rnd_idxs], self.y[rnd_idxs], \n",
    "                    idxs=np.array(range(self.sample_sz)), min_leaf=self.min_leaf)\n",
    "        \n",
    "    def predict(self, x):\n",
    "        return np.mean([t.predict(x) for t in self.trees], axis=0)\n",
    "\n",
    "def std_agg(cnt, s1, s2): return math.sqrt((s2/cnt) - (s1/cnt)**2)\n",
    "\n",
    "class DecisionTree():\n",
    "    def __init__(self, x, y, idxs=None, min_leaf=5):\n",
    "        if idxs is None: idxs=np.arange(len(y))\n",
    "        self.x,self.y,self.idxs,self.min_leaf = x,y,idxs,min_leaf\n",
    "        self.n,self.c = len(idxs), x.shape[1]\n",
    "        self.val = np.mean(y[idxs])\n",
    "        self.score = float('inf')\n",
    "        self.find_varsplit()\n",
    "        \n",
    "    def find_varsplit(self):\n",
    "        for i in range(self.c): self.find_better_split(i)\n",
    "        if self.is_leaf: return\n",
    "        x = self.split_col\n",
    "        lhs = np.nonzero(x<=self.split)[0]\n",
    "        rhs = np.nonzero(x>self.split)[0]\n",
    "        self.lhs = DecisionTree(self.x, self.y, self.idxs[lhs])\n",
    "        self.rhs = DecisionTree(self.x, self.y, self.idxs[rhs])\n",
    "\n",
    "    def find_better_split(self, var_idx):\n",
    "        x,y = self.x.values[self.idxs,var_idx], self.y[self.idxs]\n",
    "        sort_idx = np.argsort(x)\n",
    "        sort_y,sort_x = y[sort_idx], x[sort_idx]\n",
    "        rhs_cnt,rhs_sum,rhs_sum2 = self.n, sort_y.sum(), (sort_y**2).sum()\n",
    "        lhs_cnt,lhs_sum,lhs_sum2 = 0,0.,0.\n",
    "\n",
    "        for i in range(0,self.n-self.min_leaf):\n",
    "            xi,yi = sort_x[i],sort_y[i]\n",
    "            lhs_cnt += 1; rhs_cnt -= 1\n",
    "            lhs_sum += yi; rhs_sum -= yi\n",
    "            lhs_sum2 += yi**2; rhs_sum2 -= yi**2\n",
    "            if i<self.min_leaf-1 or xi==sort_x[i+1]:\n",
    "                continue\n",
    "\n",
    "            lhs_std = std_agg(lhs_cnt, lhs_sum, lhs_sum2)\n",
    "            rhs_std = std_agg(rhs_cnt, rhs_sum, rhs_sum2)\n",
    "            curr_score = lhs_std*lhs_cnt + rhs_std*rhs_cnt\n",
    "            if curr_score<self.score: \n",
    "                self.var_idx,self.score,self.split = var_idx,curr_score,xi\n",
    "\n",
    "    @property\n",
    "    def split_name(self): return self.x.columns[self.var_idx]\n",
    "    \n",
    "    @property\n",
    "    def split_col(self): return self.x.values[self.idxs,self.var_idx]\n",
    "\n",
    "    @property\n",
    "    def is_leaf(self): return self.score == float('inf')\n",
    "    \n",
    "    def __repr__(self):\n",
    "        s = f'n: {self.n}; val:{self.val}'\n",
    "        if not self.is_leaf:\n",
    "            s += f'; score:{self.score}; split:{self.split}; var:{self.split_name}'\n",
    "        return s\n",
    "\n",
    "    def predict(self, x):\n",
    "        return np.array([self.predict_row(xi) for xi in x])\n",
    "\n",
    "    def predict_row(self, xi):\n",
    "        if self.is_leaf: return self.val\n",
    "        t = self.lhs if xi[self.var_idx]<=self.split else self.rhs\n",
    "        return t.predict_row(xi)"
   ]
  },
  {
   "cell_type": "code",
   "execution_count": null,
   "metadata": {},
   "outputs": [],
   "source": []
  },
  {
   "cell_type": "code",
   "execution_count": 104,
   "metadata": {},
   "outputs": [],
   "source": [
    "df_trn = pd.DataFrame(np.random.uniform(low=-0.5, high=1, size=(500, 10)))"
   ]
  },
  {
   "cell_type": "code",
   "execution_count": 105,
   "metadata": {},
   "outputs": [],
   "source": [
    "y_trn = pd.Series(df_trn.loc[:,1] + 2*df_trn.loc[:,2] + df_trn.loc[:,3]*df_trn.loc[:,5])"
   ]
  },
  {
   "cell_type": "code",
   "execution_count": null,
   "metadata": {},
   "outputs": [],
   "source": []
  },
  {
   "cell_type": "code",
   "execution_count": 106,
   "metadata": {},
   "outputs": [],
   "source": [
    "def split_vals(a,n): return a[:n], a[n:]\n",
    "n_valid = 100\n",
    "n_trn = len(df_trn)-n_valid\n",
    "X_train, X_valid = split_vals(df_trn, n_trn)\n",
    "y_train, y_valid = split_vals(y_trn, n_trn)"
   ]
  },
  {
   "cell_type": "code",
   "execution_count": 107,
   "metadata": {},
   "outputs": [],
   "source": [
    "m = RandomForestRegressor(n_estimators=1, min_samples_leaf=100, bootstrap=False)\n",
    "m.fit(X_train, y_train)\n",
    "preds = m.predict(X_train)"
   ]
  },
  {
   "cell_type": "code",
   "execution_count": 108,
   "metadata": {},
   "outputs": [
    {
     "data": {
      "image/svg+xml": [
       "<?xml version=\"1.0\" encoding=\"UTF-8\" standalone=\"no\"?>\n",
       "<!DOCTYPE svg PUBLIC \"-//W3C//DTD SVG 1.1//EN\"\n",
       " \"http://www.w3.org/Graphics/SVG/1.1/DTD/svg11.dtd\">\n",
       "<!-- Generated by graphviz version 2.40.1 (20161225.0304)\n",
       " -->\n",
       "<!-- Title: Tree Pages: 1 -->\n",
       "<svg width=\"379pt\" height=\"231pt\"\n",
       " viewBox=\"0.00 0.00 379.14 230.60\" xmlns=\"http://www.w3.org/2000/svg\" xmlns:xlink=\"http://www.w3.org/1999/xlink\">\n",
       "<g id=\"graph0\" class=\"graph\" transform=\"scale(1 1) rotate(0) translate(4 226.6)\">\n",
       "<title>Tree</title>\n",
       "<polygon fill=\"#ffffff\" stroke=\"transparent\" points=\"-4,4 -4,-226.6 375.1387,-226.6 375.1387,4 -4,4\"/>\n",
       "<!-- 0 -->\n",
       "<g id=\"node1\" class=\"node\">\n",
       "<title>0</title>\n",
       "<polygon fill=\"#e58139\" fill-opacity=\"0.435294\" stroke=\"#000000\" points=\"99.852,-166 .4254,-166 .4254,-102 99.852,-102 99.852,-166\"/>\n",
       "<text text-anchor=\"start\" x=\"20.0469\" y=\"-150.8\" font-family=\"Times,serif\" font-size=\"14.00\" fill=\"#000000\">2 ≤ 0.2203</text>\n",
       "<text text-anchor=\"start\" x=\"12.165\" y=\"-136.8\" font-family=\"Times,serif\" font-size=\"14.00\" fill=\"#000000\">mse = 0.9456</text>\n",
       "<text text-anchor=\"start\" x=\"9.6392\" y=\"-122.8\" font-family=\"Times,serif\" font-size=\"14.00\" fill=\"#000000\">samples = 400</text>\n",
       "<text text-anchor=\"start\" x=\"8.2822\" y=\"-108.8\" font-family=\"Times,serif\" font-size=\"14.00\" fill=\"#000000\">value = 0.8847</text>\n",
       "</g>\n",
       "<!-- 1 -->\n",
       "<g id=\"node2\" class=\"node\">\n",
       "<title>1</title>\n",
       "<polygon fill=\"transparent\" stroke=\"#000000\" points=\"234.852,-213 135.4254,-213 135.4254,-163 234.852,-163 234.852,-213\"/>\n",
       "<text text-anchor=\"start\" x=\"147.165\" y=\"-197.8\" font-family=\"Times,serif\" font-size=\"14.00\" fill=\"#000000\">mse = 0.4014</text>\n",
       "<text text-anchor=\"start\" x=\"144.6392\" y=\"-183.8\" font-family=\"Times,serif\" font-size=\"14.00\" fill=\"#000000\">samples = 191</text>\n",
       "<text text-anchor=\"start\" x=\"143.2822\" y=\"-169.8\" font-family=\"Times,serif\" font-size=\"14.00\" fill=\"#000000\">value = 0.0914</text>\n",
       "</g>\n",
       "<!-- 0&#45;&gt;1 -->\n",
       "<g id=\"edge1\" class=\"edge\">\n",
       "<title>0&#45;&gt;1</title>\n",
       "<path fill=\"none\" stroke=\"#000000\" d=\"M100.0241,-153.9542C108.3191,-157.2722 116.9957,-160.7428 125.5033,-164.1459\"/>\n",
       "<polygon fill=\"#000000\" stroke=\"#000000\" points=\"124.4229,-167.4833 135.0076,-167.9476 127.0227,-160.9839 124.4229,-167.4833\"/>\n",
       "<text text-anchor=\"middle\" x=\"112.0289\" y=\"-173.5955\" font-family=\"Times,serif\" font-size=\"14.00\" fill=\"#000000\">True</text>\n",
       "</g>\n",
       "<!-- 2 -->\n",
       "<g id=\"node3\" class=\"node\">\n",
       "<title>2</title>\n",
       "<polygon fill=\"#e58139\" fill-opacity=\"0.835294\" stroke=\"#000000\" points=\"234.852,-115 135.4254,-115 135.4254,-51 234.852,-51 234.852,-115\"/>\n",
       "<text text-anchor=\"start\" x=\"155.0469\" y=\"-99.8\" font-family=\"Times,serif\" font-size=\"14.00\" fill=\"#000000\">2 ≤ 0.6164</text>\n",
       "<text text-anchor=\"start\" x=\"147.165\" y=\"-85.8\" font-family=\"Times,serif\" font-size=\"14.00\" fill=\"#000000\">mse = 0.3422</text>\n",
       "<text text-anchor=\"start\" x=\"144.6392\" y=\"-71.8\" font-family=\"Times,serif\" font-size=\"14.00\" fill=\"#000000\">samples = 209</text>\n",
       "<text text-anchor=\"start\" x=\"143.2822\" y=\"-57.8\" font-family=\"Times,serif\" font-size=\"14.00\" fill=\"#000000\">value = 1.6097</text>\n",
       "</g>\n",
       "<!-- 0&#45;&gt;2 -->\n",
       "<g id=\"edge2\" class=\"edge\">\n",
       "<title>0&#45;&gt;2</title>\n",
       "<path fill=\"none\" stroke=\"#000000\" d=\"M100.0241,-115.1544C108.3191,-112.0207 116.9957,-108.7429 125.5033,-105.5289\"/>\n",
       "<polygon fill=\"#000000\" stroke=\"#000000\" points=\"126.8898,-108.7466 135.0076,-101.9384 124.4159,-102.1983 126.8898,-108.7466\"/>\n",
       "<text text-anchor=\"middle\" x=\"112.2233\" y=\"-87.4488\" font-family=\"Times,serif\" font-size=\"14.00\" fill=\"#000000\">False</text>\n",
       "</g>\n",
       "<!-- 3 -->\n",
       "<g id=\"node4\" class=\"node\">\n",
       "<title>3</title>\n",
       "<polygon fill=\"#e58139\" fill-opacity=\"0.650980\" stroke=\"#000000\" points=\"370.852,-155 271.4254,-155 271.4254,-105 370.852,-105 370.852,-155\"/>\n",
       "<text text-anchor=\"start\" x=\"283.165\" y=\"-139.8\" font-family=\"Times,serif\" font-size=\"14.00\" fill=\"#000000\">mse = 0.2544</text>\n",
       "<text text-anchor=\"start\" x=\"280.6392\" y=\"-125.8\" font-family=\"Times,serif\" font-size=\"14.00\" fill=\"#000000\">samples = 100</text>\n",
       "<text text-anchor=\"start\" x=\"279.2822\" y=\"-111.8\" font-family=\"Times,serif\" font-size=\"14.00\" fill=\"#000000\">value = 1.2795</text>\n",
       "</g>\n",
       "<!-- 2&#45;&gt;3 -->\n",
       "<g id=\"edge3\" class=\"edge\">\n",
       "<title>2&#45;&gt;3</title>\n",
       "<path fill=\"none\" stroke=\"#000000\" d=\"M235.0078,-100.2342C243.6927,-103.2356 252.8033,-106.3841 261.7142,-109.4636\"/>\n",
       "<polygon fill=\"#000000\" stroke=\"#000000\" points=\"260.6808,-112.8095 271.2756,-112.7679 262.9673,-106.1935 260.6808,-112.8095\"/>\n",
       "</g>\n",
       "<!-- 4 -->\n",
       "<g id=\"node5\" class=\"node\">\n",
       "<title>4</title>\n",
       "<polygon fill=\"#e58139\" stroke=\"#000000\" points=\"370.852,-60 271.4254,-60 271.4254,-10 370.852,-10 370.852,-60\"/>\n",
       "<text text-anchor=\"start\" x=\"286.665\" y=\"-44.8\" font-family=\"Times,serif\" font-size=\"14.00\" fill=\"#000000\">mse = 0.231</text>\n",
       "<text text-anchor=\"start\" x=\"280.6392\" y=\"-30.8\" font-family=\"Times,serif\" font-size=\"14.00\" fill=\"#000000\">samples = 109</text>\n",
       "<text text-anchor=\"start\" x=\"279.2822\" y=\"-16.8\" font-family=\"Times,serif\" font-size=\"14.00\" fill=\"#000000\">value = 1.9127</text>\n",
       "</g>\n",
       "<!-- 2&#45;&gt;4 -->\n",
       "<g id=\"edge4\" class=\"edge\">\n",
       "<title>2&#45;&gt;4</title>\n",
       "<path fill=\"none\" stroke=\"#000000\" d=\"M235.0078,-65.3991C243.6927,-62.3339 252.8033,-59.1184 261.7142,-55.9733\"/>\n",
       "<polygon fill=\"#000000\" stroke=\"#000000\" points=\"263.0105,-59.2275 271.2756,-52.5987 260.6808,-52.6265 263.0105,-59.2275\"/>\n",
       "</g>\n",
       "</g>\n",
       "</svg>\n"
      ],
      "text/plain": [
       "<graphviz.files.Source at 0x112824c50>"
      ]
     },
     "metadata": {},
     "output_type": "display_data"
    }
   ],
   "source": [
    "draw_tree(m.estimators_[0], X_train, precision=4)"
   ]
  },
  {
   "cell_type": "code",
   "execution_count": 126,
   "metadata": {},
   "outputs": [],
   "source": [
    "m_rf = TreeEnsemble(X_train, y_train, n_trees=1, sample_sz=400, min_leaf=100)"
   ]
  },
  {
   "cell_type": "code",
   "execution_count": 127,
   "metadata": {},
   "outputs": [],
   "source": [
    "tree = m_rf.trees[0]"
   ]
  },
  {
   "cell_type": "code",
   "execution_count": 128,
   "metadata": {},
   "outputs": [
    {
     "data": {
      "text/plain": [
       "n: 400; val:0.884726593470836; score:388.4232921968637; split:0.02059355274909247; var:0"
      ]
     },
     "execution_count": 128,
     "metadata": {},
     "output_type": "execute_result"
    }
   ],
   "source": [
    "tree"
   ]
  },
  {
   "cell_type": "code",
   "execution_count": 129,
   "metadata": {},
   "outputs": [
    {
     "data": {
      "text/plain": [
       "n: 128; val:0.896252346390502"
      ]
     },
     "execution_count": 129,
     "metadata": {},
     "output_type": "execute_result"
    }
   ],
   "source": [
    "tree.lhs"
   ]
  },
  {
   "cell_type": "code",
   "execution_count": 130,
   "metadata": {},
   "outputs": [
    {
     "data": {
      "text/plain": [
       "n: 272; val:0.8793027097439338"
      ]
     },
     "execution_count": 130,
     "metadata": {},
     "output_type": "execute_result"
    }
   ],
   "source": [
    "tree.rhs"
   ]
  },
  {
   "cell_type": "code",
   "execution_count": null,
   "metadata": {},
   "outputs": [],
   "source": []
  }
 ],
 "metadata": {
  "kernelspec": {
   "display_name": "Python 3",
   "language": "python",
   "name": "python3"
  },
  "language_info": {
   "codemirror_mode": {
    "name": "ipython",
    "version": 3
   },
   "file_extension": ".py",
   "mimetype": "text/x-python",
   "name": "python",
   "nbconvert_exporter": "python",
   "pygments_lexer": "ipython3",
   "version": "3.6.7"
  }
 },
 "nbformat": 4,
 "nbformat_minor": 2
}
