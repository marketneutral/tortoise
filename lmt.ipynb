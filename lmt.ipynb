{
 "cells": [
  {
   "cell_type": "markdown",
   "metadata": {},
   "source": [
    "## Load and clean data\n",
    "* drop missing values"
   ]
  },
  {
   "cell_type": "code",
   "execution_count": 388,
   "metadata": {
    "collapsed": false
   },
   "outputs": [
    {
     "name": "stdout",
     "output_type": "stream",
     "text": [
      "(392, 9)\n",
      "     mpg  cylinders  displacement  horsepower  weight  acceleration  \\\n",
      "0   18.0          8         307.0       130.0  3504.0          12.0   \n",
      "1   15.0          8         350.0       165.0  3693.0          11.5   \n",
      "2   18.0          8         318.0       150.0  3436.0          11.0   \n",
      "3   16.0          8         304.0       150.0  3433.0          12.0   \n",
      "4   17.0          8         302.0       140.0  3449.0          10.5   \n",
      "5   15.0          8         429.0       198.0  4341.0          10.0   \n",
      "6   14.0          8         454.0       220.0  4354.0           9.0   \n",
      "7   14.0          8         440.0       215.0  4312.0           8.5   \n",
      "8   14.0          8         455.0       225.0  4425.0          10.0   \n",
      "9   15.0          8         390.0       190.0  3850.0           8.5   \n",
      "10  15.0          8         383.0       170.0  3563.0          10.0   \n",
      "11  14.0          8         340.0       160.0  3609.0           8.0   \n",
      "12  15.0          8         400.0       150.0  3761.0           9.5   \n",
      "13  14.0          8         455.0       225.0  3086.0          10.0   \n",
      "14  24.0          4         113.0        95.0  2372.0          15.0   \n",
      "15  22.0          6         198.0        95.0  2833.0          15.5   \n",
      "16  18.0          6         199.0        97.0  2774.0          15.5   \n",
      "17  21.0          6         200.0        85.0  2587.0          16.0   \n",
      "18  27.0          4          97.0        88.0  2130.0          14.5   \n",
      "19  26.0          4          97.0        46.0  1835.0          20.5   \n",
      "\n",
      "    model_year  origin                      car_name  \n",
      "0           70       1     chevrolet chevelle malibu  \n",
      "1           70       1             buick skylark 320  \n",
      "2           70       1            plymouth satellite  \n",
      "3           70       1                 amc rebel sst  \n",
      "4           70       1                   ford torino  \n",
      "5           70       1              ford galaxie 500  \n",
      "6           70       1              chevrolet impala  \n",
      "7           70       1             plymouth fury iii  \n",
      "8           70       1              pontiac catalina  \n",
      "9           70       1            amc ambassador dpl  \n",
      "10          70       1           dodge challenger se  \n",
      "11          70       1            plymouth 'cuda 340  \n",
      "12          70       1         chevrolet monte carlo  \n",
      "13          70       1       buick estate wagon (sw)  \n",
      "14          70       3         toyota corona mark ii  \n",
      "15          70       1               plymouth duster  \n",
      "16          70       1                    amc hornet  \n",
      "17          70       1                 ford maverick  \n",
      "18          70       3                  datsun pl510  \n",
      "19          70       2  volkswagen 1131 deluxe sedan  \n"
     ]
    }
   ],
   "source": [
    "import pandas as pd\n",
    "import numpy as np\n",
    "\n",
    "from sklearn.linear_model import Ridge\n",
    "from sklearn.model_selection import cross_val_score\n",
    "from sklearn.model_selection import KFold\n",
    "from sklearn.preprocessing import StandardScaler\n",
    "from sklearn.pipeline import Pipeline\n",
    "from sklearn.model_selection import GridSearchCV\n",
    "\n",
    "import matplotlib.pyplot as plt\n",
    "\n",
    "%matplotlib inline\n",
    "\n",
    "\"\"\"The data concerns city-cycle fuel consumption in miles per gallon,\n",
    "    to be predicted in terms of 3 multivalued discrete and 5 continuous\n",
    "    attributes.\" (Quinlan, 1993)\"\"\"\n",
    "\n",
    "df = pd.read_csv(\"http://archive.ics.uci.edu/ml/machine-learning-databases/auto-mpg/auto-mpg.data-original\",\n",
    "                header=None, names = ['mpg', 'cylinders', 'displacement', 'horsepower', 'weight', 'acceleration',\n",
    "                                      'model', 'origin', 'car_name'], sep='\\s+', na_values='?')\n",
    "\n",
    "df = df.dropna().reset_index(drop=True) # drop 6 rows with missing horsepower\n",
    "df['horsepower'] = df['horsepower'].astype(float)\n",
    "\n",
    "# Exclude origin for brevity\n",
    "training_columns = ['cylinders','displacement','horsepower','weight',\n",
    "                    'acceleration','model_year']\n",
    "\n",
    "print(df.shape)\n",
    "print(df.head(20))"
   ]
  },
  {
   "cell_type": "markdown",
   "metadata": {},
   "source": [
    "## Visualize columns with histograms"
   ]
  },
  {
   "cell_type": "code",
   "execution_count": 342,
   "metadata": {
    "collapsed": false
   },
   "outputs": [
    {
     "data": {
      "image/png": "[encoded data removed]",
      "text/plain": [
       "<matplotlib.figure.Figure at 0x11f90d0d0>"
      ]
     },
     "metadata": {},
     "output_type": "display_data"
    }
   ],
   "source": [
    "_ = df.hist(bins=10,figsize=(9,7),grid=False)"
   ]
  },
  {
   "cell_type": "markdown",
   "metadata": {},
   "source": [
    "## Evaluate a simple linear model"
   ]
  },
  {
   "cell_type": "code",
   "execution_count": 351,
   "metadata": {
    "collapsed": false
   },
   "outputs": [],
   "source": [
    "X = df[training_columns]\n",
    "Y = df['mpg']\n",
    "\n",
    "seed = 3294805"
   ]
  },
  {
   "cell_type": "markdown",
   "metadata": {},
   "source": [
    "### Grid search for best regularization"
   ]
  },
  {
   "cell_type": "code",
   "execution_count": 347,
   "metadata": {
    "collapsed": false
   },
   "outputs": [
    {
     "name": "stdout",
     "output_type": "stream",
     "text": [
      "Best: -13.362014 using {'alpha': 16.0}\n",
      "-13.370124 (8.201364) with: {'alpha': 0.25}\n",
      "-13.369974 (8.201273) with: {'alpha': 0.5}\n",
      "-13.369678 (8.201097) with: {'alpha': 1.0}\n",
      "-13.369094 (8.200768) with: {'alpha': 2.0}\n",
      "-13.367962 (8.200206) with: {'alpha': 4.0}\n",
      "-13.365831 (8.199430) with: {'alpha': 8.0}\n",
      "-13.362014 (8.199095) with: {'alpha': 16.0}\n",
      "Raw ridge\n",
      "-13.379404023883612\n"
     ]
    }
   ],
   "source": [
    "lr = Ridge()\n",
    "\n",
    "alpha_values = np.array([0.25,0.5,1,2,4,8,16])\n",
    "param_grid = dict(alpha=alpha_values)\n",
    "kfold = KFold(n_splits=10, random_state=seed)\n",
    "grid = GridSearchCV(estimator=lr, param_grid=param_grid, cv=kfold, scoring='neg_mean_squared_error')\n",
    "grid_result = grid.fit(X, Y)\n",
    "\n",
    "print(\"Best: %f using %s\" % (grid_result.best_score_, grid_result.best_params_))\n",
    "means = grid_result.cv_results_['mean_test_score']\n",
    "stds = grid_result.cv_results_['std_test_score']\n",
    "params = grid_result.cv_results_['params']\n",
    "for mean, stdev, param in zip(means, stds, params):\n",
    "    print(\"%f (%f) with: %r\" % (mean, stdev, param))\n",
    "\n",
    "lr = Ridge(**grid_result.best_params_)\n",
    "\n",
    "kfold = KFold(n_splits=10, random_state=seed)\n",
    "scores = cross_val_score(lr, X, Y, cv=kfold, scoring='neg_mean_squared_error')\n",
    "print('Raw ridge')\n",
    "print(scores.mean())"
   ]
  },
  {
   "cell_type": "markdown",
   "metadata": {},
   "source": [
    "### Scale inputs"
   ]
  },
  {
   "cell_type": "code",
   "execution_count": 348,
   "metadata": {
    "collapsed": false
   },
   "outputs": [
    {
     "name": "stdout",
     "output_type": "stream",
     "text": [
      "Scaled ridge\n",
      "-13.775824354309814\n"
     ]
    }
   ],
   "source": [
    "scaled_lr = Pipeline([('Scaler', StandardScaler()),('LR', lr)])\n",
    "scores = cross_val_score(scaled_lr, X, Y, cv=kfold, scoring='neg_mean_squared_error')\n",
    "print('Scaled ridge')\n",
    "print(scores.mean())"
   ]
  },
  {
   "cell_type": "markdown",
   "metadata": {},
   "source": [
    "### Evaluation results\n",
    "\n",
    "The cross-validated mean squared error for linear regression is approximately **13.4**. This will be the baseline."
   ]
  },
  {
   "cell_type": "markdown",
   "metadata": {},
   "source": [
    "### Linear model insights"
   ]
  },
  {
   "cell_type": "code",
   "execution_count": 396,
   "metadata": {
    "collapsed": false
   },
   "outputs": [
    {
     "name": "stdout",
     "output_type": "stream",
     "text": [
      "weight: -4.137636\n",
      "model_year: 2.564799\n",
      "cylinders: -0.624572\n",
      "horsepower: -0.622318\n",
      "displacement: -0.356307\n",
      "acceleration: -0.103126\n"
     ]
    },
    {
     "data": {
      "image/png": "[encoded data removed]",
      "text/plain": [
       "<matplotlib.figure.Figure at 0x11ed58c90>"
      ]
     },
     "metadata": {},
     "output_type": "display_data"
    }
   ],
   "source": [
    "def print_coefs(coefs, training_columns):\n",
    "    sorted_idx = np.argsort(-abs(coefs)) # negative for descending\n",
    "    for (name, coef) in zip(np.array(training_columns)[sorted_idx], coefs[sorted_idx]):\n",
    "        print(\"%s: %f\" % (name, coef))\n",
    "\n",
    "def plot_coefs(coefs, training_columns, title_suffix=''):\n",
    "    sorted_idx = np.argsort(abs(coefs))\n",
    "    pos = np.arange(len(coefs)) + .5\n",
    "    plt.subplot(1, 2, 2)\n",
    "    plt.barh(pos, coefs[sorted_idx], align='center')\n",
    "    plt.yticks(pos, np.array(training_columns)[sorted_idx])\n",
    "    plt.xlabel('Coef value')\n",
    "    plt.title('Coefficents' + title_suffix)\n",
    "    plt.xlim(-5.5, 5.5)\n",
    "    plt.show()\n",
    "\n",
    "# use scaled model\n",
    "scaled_lr.fit(X, Y)\n",
    "print_coefs(lr.coef_, training_columns)\n",
    "plot_coefs(lr.coef_, training_columns)"
   ]
  },
  {
   "cell_type": "markdown",
   "metadata": {},
   "source": [
    "## Insights\n",
    "\n",
    "We can see that weight has the most significant impact (heavier means worse mpg). model_year has a positive impact, and the other features, which represent the size and power of the engine, are slightly negative."
   ]
  },
  {
   "cell_type": "markdown",
   "metadata": {},
   "source": [
    "## Simple decision tree"
   ]
  },
  {
   "cell_type": "code",
   "execution_count": 352,
   "metadata": {
    "collapsed": false
   },
   "outputs": [
    {
     "name": "stdout",
     "output_type": "stream",
     "text": [
      "Best: -11.974432 using {'max_depth': 10, 'min_samples_leaf': 10}\n",
      "CART\n",
      "-12.010052711251006\n",
      "Wrote output to ./auto_mpg.graphviz\n"
     ]
    }
   ],
   "source": [
    "from sklearn.tree import DecisionTreeRegressor\n",
    "from sklearn.tree import export_graphviz\n",
    "\n",
    "dt = DecisionTreeRegressor()\n",
    "\n",
    "# Grid search meta parameters\n",
    "param_grid = dict(min_samples_leaf=np.array([1,5,10,50,100,200]), max_depth=np.array([2,4,6,8,10]))\n",
    "kfold = KFold(n_splits=10, random_state=seed)\n",
    "grid = GridSearchCV(estimator=dt, param_grid=param_grid, cv=kfold, scoring='neg_mean_squared_error')\n",
    "grid_result = grid.fit(X, Y)\n",
    "\n",
    "# Evaluate best model\n",
    "print(\"Best: %f using %s\" % (grid_result.best_score_, grid_result.best_params_))\n",
    "dt = DecisionTreeRegressor(**grid_result.best_params_)\n",
    "scores = cross_val_score(dt, X, Y, cv=kfold, scoring='neg_mean_squared_error')\n",
    "print('CART')\n",
    "print(scores.mean())\n",
    "\n",
    "# Serialize tree structure for investigation\n",
    "dt.fit(X, Y)\n",
    "output_file = './auto_mpg.graphviz'\n",
    "export_graphviz(dt, out_file=output_file, feature_names = X.columns)\n",
    "print(\"Wrote output to \" + output_file)\n"
   ]
  },
  {
   "cell_type": "markdown",
   "metadata": {},
   "source": [
    "### Evaluation results\n",
    "\n",
    "The cross-validated mean squared error is for our CART tree is approximately **12.0**. This is better than the linear model."
   ]
  },
  {
   "cell_type": "markdown",
   "metadata": {},
   "source": [
    "### Insights\n",
    "\n",
    "The structure of the decision tree suggests that displacement and horsepower are the most important features. This does not agree with what we found from the linear model. \n",
    "\n",
    "We can see inefficiencies in the tree model in the fact that the two nodes below the root each split on horsepower, and that the nodes in the layer below that all split on model year. Furthermore, all four second-layer nodes split on almost the same value of model year. This suggests that a model that can use those attributes from the entire dataset (rather than the subpopulation that the tree uses at each node) may have better predictive performance.\n",
    "\n",
    "However, the fact that the tree model's predictive performance is better than the linear model suggests that there is a significant nonlinear effect."
   ]
  },
  {
   "cell_type": "markdown",
   "metadata": {},
   "source": [
    "## Gradient Boosting Trees\n",
    "\n",
    "Let's also try out a gradient boosting tree model, which often has better predictive performance than any other model."
   ]
  },
  {
   "cell_type": "code",
   "execution_count": 404,
   "metadata": {
    "collapsed": false
   },
   "outputs": [
    {
     "name": "stdout",
     "output_type": "stream",
     "text": [
      "GBT\n",
      "-8.736805616265736\n"
     ]
    },
    {
     "data": {
      "image/png": "[encoded data removed]",
      "text/plain": [
       "<matplotlib.figure.Figure at 0x11dd72510>"
      ]
     },
     "metadata": {},
     "output_type": "display_data"
    }
   ],
   "source": [
    "from sklearn.ensemble import GradientBoostingRegressor\n",
    "\n",
    "scores = cross_val_score(GradientBoostingRegressor(), X, Y, cv=kfold, scoring='neg_mean_squared_error')\n",
    "print('GBT')\n",
    "print(scores.mean())\n",
    "\n",
    "clf = GradientBoostingRegressor()\n",
    "clf.fit(X, Y)\n",
    "\n",
    "feature_importance = clf.feature_importances_\n",
    "# make importances relative to max importance\n",
    "feature_importance = 100.0 * (feature_importance / feature_importance.max())\n",
    "\n",
    "sorted_idx = np.argsort(feature_importance)\n",
    "pos = np.arange(sorted_idx.shape[0]) + .5\n",
    "plt.subplot(1, 2, 2)\n",
    "plt.barh(pos, feature_importance[sorted_idx], align='center')\n",
    "plt.yticks(pos, X.columns[sorted_idx])\n",
    "plt.xlabel('Relative Importance')\n",
    "plt.title('GBT Variable Importance')\n",
    "plt.show()\n"
   ]
  },
  {
   "cell_type": "markdown",
   "metadata": {},
   "source": [
    "### Evaluation results and insights\n",
    "\n",
    "The cross-validated mean squared error from GBT is approximately **8.8**. This is much better than linear regression or our simple decision tree. \n",
    "\n",
    "GBT's variable importance attribute tells us that weight is the most important feature, followed by acceleration, horsepower, displacement, and model_year, which are all similar. Unfortunately, GBT does not tell us anything about the numerical magnitude or sign of their impact, nor relationship of these features."
   ]
  },
  {
   "cell_type": "markdown",
   "metadata": {},
   "source": [
    "## Linear model tree"
   ]
  },
  {
   "cell_type": "code",
   "execution_count": 392,
   "metadata": {
    "collapsed": false
   },
   "outputs": [
    {
     "name": "stdout",
     "output_type": "stream",
     "text": [
      "8.943056984982718\n"
     ]
    }
   ],
   "source": [
    "import sys\n",
    "sys.path.append('/Users/logan/ws/price-modeling/python/')\n",
    "\n",
    "from lmt import LinearModelTree\n",
    "from sklearn.metrics import mean_squared_error\n",
    "\n",
    "X = df[training_columns]\n",
    "\n",
    "shared_scaler = StandardScaler()\n",
    "shared_scaler.fit(X)\n",
    "\n",
    "def fit_linear_model(x, y):\n",
    "    lr = Ridge()\n",
    "    lr.fit(shared_scaler.transform(x), y)\n",
    "    return SharedScalerModel(shared_scaler, lr)\n",
    "\n",
    "class SharedScalerModel:\n",
    "    \n",
    "    def __init__(self, scaler, lm):\n",
    "        self.scaler = scaler\n",
    "        self.lm = lm\n",
    "        self.coef_ = lm.coef_\n",
    "        self.intercept_ = lm.intercept_\n",
    "        \n",
    "    def predict(self, X):\n",
    "        return self.lm.predict(self.scaler.transform(X))\n",
    "\n",
    "\n",
    "MIN_NODE_SIZE = 100\n",
    "MIN_SPLIT_IMPROVEMENT = 10\n",
    "lmt = LinearModelTree(MIN_NODE_SIZE, fit_linear_model, min_split_improvement=MIN_SPLIT_IMPROVEMENT)\n",
    "\n",
    "kfold = KFold(n_splits=10, random_state=seed)\n",
    "scores = []\n",
    "for train_index, test_index in kfold.split(X):\n",
    "    X_train, X_test = X.iloc[train_index], X.iloc[test_index]\n",
    "    y_train, y_test = Y[train_index], Y[test_index]\n",
    "    \n",
    "    lmt.build_tree(X_train.values, X_train, y_train.values)\n",
    "    y_pred = lmt.predict(X_test.values, X_test)\n",
    "    mse = mean_squared_error(y_test, y_pred)\n",
    "    scores.append(mse)\n",
    "\n",
    "print(np.array(scores).mean())\n"
   ]
  },
  {
   "cell_type": "markdown",
   "metadata": {},
   "source": [
    "### Evaluation results\n",
    "\n",
    "[Optimal meta parameters found via grid search, not shown]\n",
    "\n",
    "The LMT gives a cross-validated mean squared error of approximately **8.9**, which is nearly as good as GBT, and much better than our linear regression and simple decision tree models."
   ]
  },
  {
   "cell_type": "markdown",
   "metadata": {},
   "source": [
    "### Insights"
   ]
  },
  {
   "cell_type": "code",
   "execution_count": 369,
   "metadata": {
    "collapsed": false
   },
   "outputs": [
    {
     "name": "stdout",
     "output_type": "stream",
     "text": [
      "\n",
      "T,rc:392,f:2,v:78.0\n",
      "TL,rc:104,f:_,v:_ \n",
      "TR,rc:288,f:2,v:97.0\n",
      "TRL,rc:110,f:_,v:_ \n",
      "TRR,rc:178,f:_,v:_ \n"
     ]
    }
   ],
   "source": [
    "# Build a tree on the full dataset, and serialize it to see the feature splits\n",
    "lmt = LinearModelTree(MIN_NODE_SIZE, fit_linear_model, MIN_SPLIT_IMPROVEMENT)\n",
    "lmt.build_tree(X.values, X, Y.values)\n",
    "print(lmt.serialize())"
   ]
  },
  {
   "cell_type": "code",
   "execution_count": 357,
   "metadata": {
    "collapsed": false
   },
   "outputs": [
    {
     "name": "stdout",
     "output_type": "stream",
     "text": [
      "horsepower\n"
     ]
    }
   ],
   "source": [
    "print(X.columns[2])"
   ]
  },
  {
   "cell_type": "markdown",
   "metadata": {},
   "source": [
    "### Tree structure\n",
    "\n",
    "The linear model tree produces just 2 splits, for a total of 3 leaf nodes. It splits first at horsepower = 78, and for horsepower >= 78 it splits at horsepower = 97. We will call the three subpopulations low power, medium power, and high power."
   ]
  },
  {
   "cell_type": "code",
   "execution_count": 397,
   "metadata": {
    "collapsed": false
   },
   "outputs": [
    {
     "data": {
      "image/png": "[encoded data removed]",
      "text/plain": [
       "<matplotlib.figure.Figure at 0x11df8aa10>"
      ]
     },
     "metadata": {},
     "output_type": "display_data"
    },
    {
     "data": {
      "image/png": "[encoded data removed]",
      "text/plain": [
       "<matplotlib.figure.Figure at 0x11e316550>"
      ]
     },
     "metadata": {},
     "output_type": "display_data"
    },
    {
     "data": {
      "image/png": "[encoded data removed]",
      "text/plain": [
       "<matplotlib.figure.Figure at 0x11e213410>"
      ]
     },
     "metadata": {},
     "output_type": "display_data"
    },
    {
     "name": "stdout",
     "output_type": "stream",
     "text": [
      "displacement: -5.186292\n",
      "model_year: 4.287827\n",
      "weight: -4.287711\n",
      "horsepower: -1.605432\n",
      "cylinders: 0.685287\n",
      "acceleration: 0.608814\n",
      "\n",
      "weight: -5.522914\n",
      "model_year: 2.410542\n",
      "horsepower: -1.416881\n",
      "acceleration: -0.805342\n",
      "cylinders: -0.311572\n",
      "displacement: -0.156405\n",
      "\n",
      "weight: -2.154847\n",
      "model_year: 1.428982\n",
      "horsepower: -1.089580\n",
      "displacement: 1.041145\n",
      "cylinders: -0.867039\n",
      "acceleration: -0.200428\n"
     ]
    }
   ],
   "source": [
    "root_lm = lmt.root.lm\n",
    "node_1_coef = root_lm.coef_ + lmt.root.left.lm.coef_\n",
    "plot_coefs(node_1_coef, training_columns, ' (horsepower < 78)')\n",
    "\n",
    "right_coef = lmt.root.right.lm.coef_\n",
    "node_2_coef = root_lm.coef_ + right_coef + lmt.root.right.left.lm.coef_\n",
    "plot_coefs(node_2_coef, training_columns, ' (horsepower >= 78 & horsepower < 97)')\n",
    "\n",
    "\n",
    "node_3_coef = root_lm.coef_ + right_coef + lmt.root.right.right.lm.coef_\n",
    "plot_coefs(node_3_coef, training_columns, ' (horsepower >= 97)')\n",
    "\n",
    "\n",
    "print_coefs(node_1_coef, training_columns)\n",
    "print('')\n",
    "print_coefs(node_2_coef, training_columns)\n",
    "print('')\n",
    "print_coefs(node_3_coef, training_columns)"
   ]
  },
  {
   "cell_type": "code",
   "execution_count": 430,
   "metadata": {
    "collapsed": false
   },
   "outputs": [
    {
     "data": {
      "image/png": "[encoded data removed]",
      "text/plain": [
       "<matplotlib.figure.Figure at 0x11f371850>"
      ]
     },
     "metadata": {},
     "output_type": "display_data"
    }
   ],
   "source": [
    "rows = 1\n",
    "cols = 3\n",
    "coefs = [\n",
    "    node_1_coef,\n",
    "    node_2_coef,\n",
    "    node_3_coef,\n",
    "]\n",
    "titles = ['Low power', 'Medium power', 'High power']\n",
    "f, axs = plt.subplots(rows, cols, sharex='col', figsize=(12, 4))\n",
    "for col in range(cols):\n",
    "    pos = np.arange(len(coefs[col])) + .5\n",
    "    axs[col].barh(pos, coefs[col], align='center')\n",
    "    axs[col].set_yticks(pos)\n",
    "    axs[col].set_yticklabels(np.array(training_columns))\n",
    "    axs[col].set_xlabel('Coef value')\n",
    "    axs[col].set_title(titles[col])\n",
    "    axs[col].set_xlim(-5.5, 5.5)\n",
    "\n",
    "f.tight_layout()\n",
    "\n"
   ]
  },
  {
   "cell_type": "code",
   "execution_count": 434,
   "metadata": {
    "collapsed": false
   },
   "outputs": [
    {
     "data": {
      "image/png": "[encoded data removed]",
      "text/plain": [
       "<matplotlib.figure.Figure at 0x12061dc10>"
      ]
     },
     "metadata": {},
     "output_type": "display_data"
    }
   ],
   "source": [
    "import numpy as np\n",
    "import matplotlib.pyplot as plt\n",
    "import seaborn as sns\n",
    "\n",
    "sns.set_style(\"white\")\n",
    "\n",
    "def gen(n=40):\n",
    "    return np.random.normal(size=n)\n",
    "\n",
    "rows, cols = 3, 5\n",
    "\n",
    "fsize = 15\n",
    "\n",
    "rownames = ['low power', 'medium power', 'high power']\n",
    "subpop_data = [\n",
    "    df.query('horsepower < 78'),\n",
    "    df.query('horsepower >= 78 & horsepower < 97'),\n",
    "    df.query('horsepower >= 97'),\n",
    "]\n",
    "\n",
    "cmap = sns.color_palette(\"Set2\", cols)\n",
    "\n",
    "f, axs = plt.subplots(rows, cols, sharex='col', figsize=(15, 6))\n",
    "\n",
    "for i in range(rows):\n",
    "    for j in range(cols):\n",
    "        _ = axs[i,j].hist(subpop_data[i][training_columns[j]], histtype='step', color=cmap[j])\n",
    "        axs[i,j].set_xticks([])\n",
    "        axs[i,j].set_yticks([])\n",
    "        left, right = _[1][0], _[1][-1]\n",
    "        \n",
    "        # black dots\n",
    "        axs[i,j].scatter(left, 0, c='black', s=15)\n",
    "        axs[i,j].scatter(right, 0, c='black', s=15)\n",
    "        \n",
    "        # min,max annotations\n",
    "        axs[i,j].annotate(str(int(left)), \n",
    "                          xy=(left, 0), \n",
    "                          xytext=(-5, -20),\n",
    "                          textcoords='offset points')\n",
    "        \n",
    "        axs[i,j].annotate(str(int(right)), \n",
    "                          xy=(right, 0), \n",
    "                          xytext=(-5, -20),\n",
    "                          textcoords='offset points')\n",
    "        \n",
    "        if i == 0:\n",
    "            axs[i,j].set_xlabel(training_columns[j], labelpad=15, size=fsize)\n",
    "            axs[i,j].xaxis.set_label_position('top')\n",
    "            \n",
    "        if j == 0:\n",
    "            axs[i,j].set_ylabel(rownames[i], size=fsize)\n",
    "\n",
    "f.subplots_adjust(hspace=1.5)\n",
    "sns.despine(left=True, bottom=True)"
   ]
  },
  {
   "cell_type": "markdown",
   "metadata": {},
   "source": [
    "Inspecting the weights from the linear model tree gives us a very different understanding of what affects fuel efficiency than we got from the other models. While there are some commonalities across the different subpopulations that our LMT has identified, we also see some significant differences.\n",
    "\n",
    "For all vehicles, weight has a large negative impact, which makes sense because fuel economy should get worse with the more mass the vehicle has to move. Model year has a large positive impact for all vehicles; presumably engine technology improved significantly in this period. These are similar to what we see in the single linear model. However, the magnitude of those impacts changes across the subpopulations that our LMT has identified, and engine size and power have different magnitudes of effect in different subpopulations.\n",
    "\n",
    "For low-power vehicles, model year has a huge positive impact, and we see that in this population fuel economy is very sensitive to engine displacement.\n",
    "\n",
    "In the medium-power category, weight again has a huge negative impact but fuel economy only increases moderately with model year.\n",
    "\n",
    "For vehicles with high-power, weight has as much less significant impact, and the same can be said for model year. The engine size and power features are more relevant in this population by comparison to weight and model year. In this population the engine sizes are far more variable than in the other populations, so engine size ends up having a larger impact on the prediction than even what the coefficients tell us."
   ]
  }
 ],
 "metadata": {
  "kernelspec": {
   "display_name": "Python 2",
   "language": "python",
   "name": "python2"
  },
  "language_info": {
   "codemirror_mode": {
    "name": "ipython",
    "version": 2
   },
   "file_extension": ".py",
   "mimetype": "text/x-python",
   "name": "python",
   "nbconvert_exporter": "python",
   "pygments_lexer": "ipython2",
   "version": "2.7.13"
  }
 },
 "nbformat": 4,
 "nbformat_minor": 2
}
